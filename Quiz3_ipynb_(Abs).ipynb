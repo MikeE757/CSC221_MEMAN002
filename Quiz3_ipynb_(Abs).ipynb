{
  "nbformat": 4,
  "nbformat_minor": 0,
  "metadata": {
    "colab": {
      "provenance": [],
      "authorship_tag": "ABX9TyPPl2UWIPQL7qVAUZav+82Q",
      "include_colab_link": true
    },
    "kernelspec": {
      "name": "python3",
      "display_name": "Python 3"
    },
    "language_info": {
      "name": "python"
    }
  },
  "cells": [
    {
      "cell_type": "markdown",
      "metadata": {
        "id": "view-in-github",
        "colab_type": "text"
      },
      "source": [
        "<a href=\"https://colab.research.google.com/github/MikeE757/CSC221_MEMAN002/blob/main/Quiz3_ipynb_(Abs).ipynb\" target=\"_parent\"><img src=\"https://colab.research.google.com/assets/colab-badge.svg\" alt=\"Open In Colab\"/></a>"
      ]
    },
    {
      "cell_type": "code",
      "execution_count": null,
      "metadata": {
        "id": "lOhtccwleaK3"
      },
      "outputs": [],
      "source": [
        "#Abs()\n",
        "from typing_extensions import Self\n",
        "def custom_abs(num):\n",
        "   if num >=0:\n",
        "     return num\n",
        "   else:\n",
        "     return -num\n",
        "#Test the custo_abs function\n",
        "num = -10\n",
        "abs_num = custom_abs(num)\n",
        "print(\"The absolute value of\", num , \"is\" , abs_num)\n",
        "\n"
      ]
    }
  ]
}