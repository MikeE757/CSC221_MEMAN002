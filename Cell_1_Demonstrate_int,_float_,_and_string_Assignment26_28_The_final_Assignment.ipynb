{
  "nbformat": 4,
  "nbformat_minor": 0,
  "metadata": {
    "colab": {
      "provenance": [],
      "authorship_tag": "ABX9TyNzqEHlyAoF10orxrZydWe4",
      "include_colab_link": true
    },
    "kernelspec": {
      "name": "python3",
      "display_name": "Python 3"
    },
    "language_info": {
      "name": "python"
    }
  },
  "cells": [
    {
      "cell_type": "markdown",
      "metadata": {
        "id": "view-in-github",
        "colab_type": "text"
      },
      "source": [
        "<a href=\"https://colab.research.google.com/github/MikeE757/CSC221_MEMAN002/blob/main/Cell_1_Demonstrate_int%2C_float_%2C_and_string_Assignment26_28_The_final_Assignment.ipynb\" target=\"_parent\"><img src=\"https://colab.research.google.com/assets/colab-badge.svg\" alt=\"Open In Colab\"/></a>"
      ]
    },
    {
      "cell_type": "code",
      "execution_count": null,
      "metadata": {
        "id": "iJCf-rm6DtX4"
      },
      "outputs": [],
      "source": [
        "#Integer example\n",
        "num1 = 10\n",
        "num2 = 5\n",
        "sum = num1 + num2\n",
        "print(\"The sum of\" , num1, \"and\" , num2, \"is\" , sum)\n",
        "#string example\n",
        "name = \"John Doe\"\n",
        "age = 25\n",
        "print(\"My name is\" , name , \"and I am\" , age , \"year old.\")\n"
      ]
    }
  ]
}