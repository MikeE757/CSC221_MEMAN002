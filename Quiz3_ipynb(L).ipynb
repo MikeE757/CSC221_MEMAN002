{
  "nbformat": 4,
  "nbformat_minor": 0,
  "metadata": {
    "colab": {
      "provenance": [],
      "authorship_tag": "ABX9TyNY96K7QvlWF1g6BxqH2pPl",
      "include_colab_link": true
    },
    "kernelspec": {
      "name": "python3",
      "display_name": "Python 3"
    },
    "language_info": {
      "name": "python"
    }
  },
  "cells": [
    {
      "cell_type": "markdown",
      "metadata": {
        "id": "view-in-github",
        "colab_type": "text"
      },
      "source": [
        "<a href=\"https://colab.research.google.com/github/MikeE757/CSC221_MEMAN002/blob/main/Quiz3_ipynb(L).ipynb\" target=\"_parent\"><img src=\"https://colab.research.google.com/assets/colab-badge.svg\" alt=\"Open In Colab\"/></a>"
      ]
    },
    {
      "cell_type": "code",
      "execution_count": null,
      "metadata": {
        "id": "8_NioGwMRXO7"
      },
      "outputs": [],
      "source": [
        "#Example with len string\n",
        "my_string = \"Hello World\"\n",
        "string_length = len(my_string)\n",
        "print(f\"length of the string:{string_length}\")\n",
        "my_string = len(my_string)\n",
        "print(f\"length of the string:{string_length}\")\n",
        "#Example with a list\n",
        "my_list = [1,2,3,4,5]\n",
        "list_length = len(my_list)\n",
        "print(f\"length of the list:{list_length}\")\n",
        "#Example with a dictionary\n",
        "my_dict = {'a': 1 , 'b': 2, 'c': 3}\n",
        "dict_length = len(my_dict)\n",
        "print(f\"length of the dictionary:{dict_length}\")\n",
        "#Example with a set\n",
        "my_set = {1,2,3,4,5}\n",
        "set_length = len(my_set)\n",
        "print(f\"length of the set:{set_length}\")\n",
        "#Example with list\n",
        "my_tuple = (1,2,3,4,5)\n",
        "my_list = list(my_tuple)\n",
        "print(my_list)\n",
        "my_set={1,2,3,4,5}\n",
        "my_list = list(my_set)\n",
        "print(my_list)\n",
        "my_dict = {'a': 1 , 'b': 2 , 'c': 3}\n",
        "my_list = list(my_dict)\n",
        "print(my_list)\n",
        "#Example of locals\n",
        "def example_function():\n",
        " a = 10\n",
        " b = 20\n",
        " c = 'hello'\n",
        "local_variables = locals()\n",
        "print(local_variables)\n"
      ]
    }
  ]
}