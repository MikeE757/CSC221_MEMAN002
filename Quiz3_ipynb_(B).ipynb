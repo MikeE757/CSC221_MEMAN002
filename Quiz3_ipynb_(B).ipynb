{
  "nbformat": 4,
  "nbformat_minor": 0,
  "metadata": {
    "colab": {
      "provenance": [],
      "authorship_tag": "ABX9TyOtM8pWDGMlgBcKjAqKk9K2",
      "include_colab_link": true
    },
    "kernelspec": {
      "name": "python3",
      "display_name": "Python 3"
    },
    "language_info": {
      "name": "python"
    }
  },
  "cells": [
    {
      "cell_type": "markdown",
      "metadata": {
        "id": "view-in-github",
        "colab_type": "text"
      },
      "source": [
        "<a href=\"https://colab.research.google.com/github/MikeE757/CSC221_MEMAN002/blob/main/Quiz3_ipynb_(B).ipynb\" target=\"_parent\"><img src=\"https://colab.research.google.com/assets/colab-badge.svg\" alt=\"Open In Colab\"/></a>"
      ]
    },
    {
      "cell_type": "code",
      "execution_count": null,
      "metadata": {
        "id": "WctsWuQQjUMQ"
      },
      "outputs": [],
      "source": [
        "#Example of bin in Python\n",
        "def custom_bin(num):\n",
        "   if num < 0:\n",
        "      raise ValueError(\"Custom_bin() can only covert non-negative intergers.\")\n",
        "   if num ==0:\n",
        "      return 'ObO'\n",
        "   while num > 0:\n",
        "    result = str(num%2) + result\n",
        "    return 'Ob' + result\n",
        "#Example of bool type in Python\n",
        "x = True\n",
        "y = False\n",
        "print(x)#Output:True\n",
        "print(y)#Output: False\n",
        "#Boolean operation\n",
        "print(x and y)#Output:False\n",
        "print(x and y)#Output: False\n",
        "print(not x)#Output:False\n",
        "#Comparision operators also return bool values\n",
        "num1 = 10\n",
        "num2 = 5\n",
        "print(num1 > num2)#Output:True\n",
        "print(num1 == num2)#Output:False\n",
        "def divide_numbers(a,b):\n",
        "    result = a/b\n",
        "    breakpoint()#Execution will stop her and enter the debugger\n",
        "    return result\n",
        "#Create a bytearry from a string\n",
        "str_data = \"Hello,World!\"\n",
        "byte_array = bytearray(str_data,'utf-8')\n",
        "print(byte_array)\n",
        "#Modify the elements of the bytearray\n",
        "byte_array[0] = 72\n",
        "print(byte_array)\n",
        "#Convert the bytearray back to a string\n",
        "new_str = byte_array.decode('utf-8')\n",
        "print(new_str)\n",
        "#Create a bytes object from a list of integers\n",
        "byte_values = [65,66,67]\n",
        "bytes_obj = bytes(byte_values)\n",
        "print(bytes_obj)\n",
        "print(bytes_obj[0])\n",
        "print(bytes_obj[1])\n",
        "#Convert bytes to string\n",
        "str_obj = bytes_obj.decode('utf-8')\n",
        "print(str_obj)\n",
        "\n"
      ]
    }
  ]
}