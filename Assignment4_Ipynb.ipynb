{
  "nbformat": 4,
  "nbformat_minor": 0,
  "metadata": {
    "colab": {
      "provenance": [],
      "authorship_tag": "ABX9TyNMO7GTFwLXrgP5dWCGryCU",
      "include_colab_link": true
    },
    "kernelspec": {
      "name": "python3",
      "display_name": "Python 3"
    },
    "language_info": {
      "name": "python"
    }
  },
  "cells": [
    {
      "cell_type": "markdown",
      "metadata": {
        "id": "view-in-github",
        "colab_type": "text"
      },
      "source": [
        "<a href=\"https://colab.research.google.com/github/MikeE757/CSC221_MEMAN002/blob/main/Assignment4_Ipynb.ipynb\" target=\"_parent\"><img src=\"https://colab.research.google.com/assets/colab-badge.svg\" alt=\"Open In Colab\"/></a>"
      ]
    },
    {
      "cell_type": "code",
      "execution_count": null,
      "metadata": {
        "colab": {
          "base_uri": "https://localhost:8080/"
        },
        "id": "9MU96cTANW0v",
        "outputId": "4f8e9f9e-6e0a-4ee9-a215-b2ae1f043fbe"
      },
      "outputs": [
        {
          "output_type": "stream",
          "name": "stdout",
          "text": [
            "3\n"
          ]
        }
      ],
      "source": [
        "a=3\n",
        "print(a)\n"
      ]
    },
    {
      "cell_type": "code",
      "source": [
        "for num in range(60,86):\n",
        "  if num %7==0:\n",
        "    cube = num **3\n",
        "    print(cube)\n",
        "\n",
        "x_vaules={40,50,120,-8,6}\n",
        "for x in x_vaules:\n",
        "    y = 7.4 * x +51\n",
        "    print(\"For x =\",x,\"y=\",y)"
      ],
      "metadata": {
        "id": "3oqpuOExNfhy",
        "colab": {
          "base_uri": "https://localhost:8080/"
        },
        "outputId": "ae018bd8-74fb-47cd-edfe-d45f7e543f14"
      },
      "execution_count": 8,
      "outputs": [
        {
          "output_type": "stream",
          "name": "stdout",
          "text": [
            "250047\n",
            "343000\n",
            "456533\n",
            "592704\n",
            "For x = 50 y= 421.0\n",
            "For x = 6 y= 95.4\n",
            "For x = 40 y= 347.0\n",
            "For x = -8 y= -8.200000000000003\n",
            "For x = 120 y= 939.0\n"
          ]
        }
      ]
    }
  ]
}