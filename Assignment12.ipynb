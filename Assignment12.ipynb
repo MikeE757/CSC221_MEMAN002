{
  "nbformat": 4,
  "nbformat_minor": 0,
  "metadata": {
    "colab": {
      "provenance": [],
      "authorship_tag": "ABX9TyMwM1hLYcIZ4XgpF7IqNie8",
      "include_colab_link": true
    },
    "kernelspec": {
      "name": "python3",
      "display_name": "Python 3"
    },
    "language_info": {
      "name": "python"
    }
  },
  "cells": [
    {
      "cell_type": "markdown",
      "metadata": {
        "id": "view-in-github",
        "colab_type": "text"
      },
      "source": [
        "<a href=\"https://colab.research.google.com/github/MikeE757/CSC221_MEMAN002/blob/main/Assignment12.ipynb\" target=\"_parent\"><img src=\"https://colab.research.google.com/assets/colab-badge.svg\" alt=\"Open In Colab\"/></a>"
      ]
    },
    {
      "cell_type": "code",
      "execution_count": null,
      "metadata": {
        "id": "cUAI2sy8mKAG"
      },
      "outputs": [],
      "source": [
        "#Assignment 12: Classes, Part 2\n",
        "class Money:\n",
        "    def __init__(self,value):\n",
        "        self.value = value\n",
        "    def display(self):\n",
        "        return f\"${self.value:..2f}\"\n",
        "class Bills(Money):\n",
        "    def __init__(self, value):\n",
        "        super().__init__(value)\n",
        "class Coins(Money):\n",
        "    def __init__(self, value):\n",
        "        super().__init__(value)\n",
        "class One(Bills):\n",
        "    def __init__(self):\n",
        "        super().__init__(1.0)\n",
        "class Five(Bills):\n",
        "    def __init__(self, value):\n",
        "        super().__init__(5.0)\n",
        "class Ten(Bills):\n",
        "    def __init__(self):\n",
        "        super().__init__(10.0)\n",
        "class Twenty(Bills):\n",
        "    def __init__(self):\n",
        "        super().__init__(20.0)\n",
        "class Penny(Coins):\n",
        "    def __init__(self):\n",
        "        super().__init__(0.01)\n",
        "class Nickel(Coins):\n",
        "    def __init__(self):\n",
        "        super().__init__(0.05)\n",
        "class Quarter(Coins):\n",
        "    def __init__(self):\n",
        "        super().__init__(0.25)\n",
        "print(\"One dollar bill: one_dollar_bill.display()\")\n",
        "print(\"Five dollar bill: five_dollar_bill.display()\")\n",
        "print(\"Penny: penny.display()\")\n",
        "print(\"Quarter: quarter.display()\")\n",
        "class Money:\n",
        "    def __init__(self, value):\n",
        "        self.value = value\n",
        "    def display(self):\n",
        "        return f\"{self.value:.2f}\"\n",
        "class Bills(Money):\n",
        "    def __init__(self, value):\n",
        "        super().__init__(value)\n",
        "class Coins(Money):\n",
        "    def __init__(self, value):\n",
        "        super().__init__(value)\n",
        "class One(Bills):\n",
        "    def __init__(self):\n",
        "        super().__init__(1.0)\n",
        "class Five(Bills):\n",
        "    def __init__(self):\n",
        "        super().__init__(5.0)\n",
        "class Ten(Bills):\n",
        "    def __init__(self):\n",
        "        super().__init__(10.0)\n",
        "class Twenty(Bills):\n",
        "     def __init__(self):\n",
        "         super().__init__(20.0)\n",
        "class Penny(Coins):\n",
        "     def __init__(self):\n",
        "         super().__init__(0.01)\n",
        "class Nickel(Coins):\n",
        "     def __init__(self):\n",
        "         super().__init__(0.05)\n",
        "class Quarter(Coins):\n",
        "     def __init__(self):\n",
        "         super().__init__(0.25)\n",
        "# Create wallets with various bills and coins\n",
        "wallet = [One() , Five() , Ten() , Quarter() , Nickel() , Penny() , One() , Twenty() , Quarter() , Nickel() , Penny() , Five() , Ten() , Penny() , Nickel() , Quarter()]\n",
        "#Calculate the total sum of money in the wallet\n",
        "total_sum=sum(money.value for money in wallet)\n",
        "#Print all the money in the wallet\n",
        "print(\"Money in the wallet:\")\n",
        "for money in wallet:\n",
        "    print(money.display)\n",
        "#Print the total sum of money in the wallet\n",
        "print(\"\\nTotal sum of money in the wallet:\",Money(total_sum).display())\n"
      ]
    }
  ]
}