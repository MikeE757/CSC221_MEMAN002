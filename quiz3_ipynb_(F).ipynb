{
  "nbformat": 4,
  "nbformat_minor": 0,
  "metadata": {
    "colab": {
      "provenance": [],
      "authorship_tag": "ABX9TyM9PUBIStawg1Y/M4/uwa4y",
      "include_colab_link": true
    },
    "kernelspec": {
      "name": "python3",
      "display_name": "Python 3"
    },
    "language_info": {
      "name": "python"
    }
  },
  "cells": [
    {
      "cell_type": "markdown",
      "metadata": {
        "id": "view-in-github",
        "colab_type": "text"
      },
      "source": [
        "<a href=\"https://colab.research.google.com/github/MikeE757/CSC221_MEMAN002/blob/main/quiz3_ipynb_(F).ipynb\" target=\"_parent\"><img src=\"https://colab.research.google.com/assets/colab-badge.svg\" alt=\"Open In Colab\"/></a>"
      ]
    },
    {
      "cell_type": "code",
      "execution_count": null,
      "metadata": {
        "id": "J_5G-cmpM-n8"
      },
      "outputs": [],
      "source": [
        "#Define a list of numbers\n",
        "numbers = [1,2,3,4,5,6,7,8,9,10]\n",
        "#Define a function to filter even numbers\n",
        "def is_even(num):\n",
        "    return num % 2 == 0\n",
        "#Use fitler() to filter even numbers from the list\n",
        "even_numbers = list(filter(is_even,numbers))\n",
        "#Print the filtered even numbers\n",
        "print(even_numbers)\n",
        "#Convert an integer to a float\n",
        "Integer_num = 42\n",
        "float_num = float(Integer_num)\n",
        "print(float_num)\n",
        "#Define varibales\n",
        "name = \"Alice\"\n",
        "age = 30\n",
        "#Format a string using the format() method\n",
        "formatted_string = \"My name is {} and {} years old.\".format(name,age)\n",
        "#Print the formatted string\n",
        "print(formatted_string)\n",
        "#Create a regular set\n",
        "my_set = {1,2,3,4,5}\n",
        "#Convert the set to a frozenset\n",
        "my_frozenset = frozenset(my_set)\n",
        "#Try to add an element to the frozenset(this will raise an error)\n",
        "try:\n",
        "   my_frozenset.add(6)\n",
        "except AttributeError as e:\n",
        "       print(\"Error:\",e)\n",
        "#Display the frozen set\n",
        "print(\"Frozen set:\",my_frozenset)\n"
      ]
    }
  ]
}