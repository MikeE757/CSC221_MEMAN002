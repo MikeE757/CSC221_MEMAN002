{
  "nbformat": 4,
  "nbformat_minor": 0,
  "metadata": {
    "colab": {
      "provenance": [],
      "authorship_tag": "ABX9TyPm6+0oYgkbeaThYbvKQVxJ",
      "include_colab_link": true
    },
    "kernelspec": {
      "name": "python3",
      "display_name": "Python 3"
    },
    "language_info": {
      "name": "python"
    }
  },
  "cells": [
    {
      "cell_type": "markdown",
      "metadata": {
        "id": "view-in-github",
        "colab_type": "text"
      },
      "source": [
        "<a href=\"https://colab.research.google.com/github/MikeE757/CSC221_MEMAN002/blob/main/Cell2_Show_how_an_f_string_works_(f'Something_like_this_with_in_it%22).ipynb\" target=\"_parent\"><img src=\"https://colab.research.google.com/assets/colab-badge.svg\" alt=\"Open In Colab\"/></a>"
      ]
    },
    {
      "cell_type": "code",
      "execution_count": null,
      "metadata": {
        "id": "6XZhPh9EjHoc"
      },
      "outputs": [],
      "source": [
        "name = \"John\"\n",
        "age = 25\n",
        "message = f\"My name is{name} and I am {age} year old\"\n",
        "print(message)\n"
      ]
    }
  ]
}