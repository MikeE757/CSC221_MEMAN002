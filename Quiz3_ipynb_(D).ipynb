{
  "nbformat": 4,
  "nbformat_minor": 0,
  "metadata": {
    "colab": {
      "provenance": [],
      "authorship_tag": "ABX9TyMEi9Fktqkrjn7huHHxvyWp",
      "include_colab_link": true
    },
    "kernelspec": {
      "name": "python3",
      "display_name": "Python 3"
    },
    "language_info": {
      "name": "python"
    }
  },
  "cells": [
    {
      "cell_type": "markdown",
      "metadata": {
        "id": "view-in-github",
        "colab_type": "text"
      },
      "source": [
        "<a href=\"https://colab.research.google.com/github/MikeE757/CSC221_MEMAN002/blob/main/Quiz3_ipynb_(D).ipynb\" target=\"_parent\"><img src=\"https://colab.research.google.com/assets/colab-badge.svg\" alt=\"Open In Colab\"/></a>"
      ]
    },
    {
      "cell_type": "code",
      "execution_count": null,
      "metadata": {
        "id": "0_kTeCd49fTG"
      },
      "outputs": [],
      "source": [
        "class MyClass:\n",
        "    def _init_(self,x,y):\n",
        "        self.x =x\n",
        "        self.y = y\n",
        "#Create an instance of MyClass\n",
        "        obj = MyClass(10,20)\n",
        "#Display the attributes of the object before deltion\n",
        "print(\"Before deletion\")\n",
        "print(\"obj.x=,obj.x\")\n",
        "print(\"obj.y=,obj.y\")\n",
        "#Display the attributes of the object after deletion\n",
        "print(\"\\nAfter deletion:\")\n",
        "print(\"obj.x=,obj.x\")\n",
        "empty_dict = dict()\n",
        "empty_dict = {}\n",
        "key_value_pairs=[('a',1),('b,2'),('c,3')]\n",
        "my_list=[1,2,3]\n",
        "print(dir(my_list))\n",
        "print(dir())\n",
        "import math\n",
        "print(dir(math))\n",
        "print(dir(list))\n",
        "def my_divmod(dividend, divisor):\n",
        "    quotient = dividend // divisor\n",
        "    remainder = dividend % divisor\n",
        "    return(quotient,remainder)\n",
        "#Example usage of the custom divmod function\n",
        "result = my_divmod(20,3)\n",
        "print(\"Quotient:\",result[0])\n",
        "print(\"Remainder:\", result[1])\n",
        "\n"
      ]
    }
  ]
}