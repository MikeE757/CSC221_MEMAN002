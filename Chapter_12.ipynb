{
  "nbformat": 4,
  "nbformat_minor": 0,
  "metadata": {
    "colab": {
      "provenance": [],
      "authorship_tag": "ABX9TyM6dztGCNL7u7VXMUAR6ofl",
      "include_colab_link": true
    },
    "kernelspec": {
      "name": "python3",
      "display_name": "Python 3"
    },
    "language_info": {
      "name": "python"
    }
  },
  "cells": [
    {
      "cell_type": "markdown",
      "metadata": {
        "id": "view-in-github",
        "colab_type": "text"
      },
      "source": [
        "<a href=\"https://colab.research.google.com/github/MikeE757/CSC221_MEMAN002/blob/main/Chapter_12.ipynb\" target=\"_parent\"><img src=\"https://colab.research.google.com/assets/colab-badge.svg\" alt=\"Open In Colab\"/></a>"
      ]
    },
    {
      "cell_type": "code",
      "execution_count": null,
      "metadata": {
        "id": "5XlVz7y4zfMb"
      },
      "outputs": [],
      "source": [
        "import pygame\n",
        "class AlienInvasion:\n",
        " def __init__(self):\n",
        "  pygame.init( )\n",
        "  self.screen = pygame.display.setmode((1200,800))\n",
        "  pygame.display.set_captain(\"Alien Invasion\")\n",
        " def run_game(self):\n",
        "  while True:\n",
        "      for event in pygame.event.get():\n",
        "          if event.type == pygame.QUIT:\n",
        "          sys.exit()\n",
        "          pygame.display.flip()\n",
        "\n",
        "\n"
      ]
    }
  ]
}