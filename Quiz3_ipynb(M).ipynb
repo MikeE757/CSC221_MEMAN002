{
  "nbformat": 4,
  "nbformat_minor": 0,
  "metadata": {
    "colab": {
      "provenance": [],
      "authorship_tag": "ABX9TyO1lhtFOswl85Q+E4Mrpban",
      "include_colab_link": true
    },
    "kernelspec": {
      "name": "python3",
      "display_name": "Python 3"
    },
    "language_info": {
      "name": "python"
    }
  },
  "cells": [
    {
      "cell_type": "markdown",
      "metadata": {
        "id": "view-in-github",
        "colab_type": "text"
      },
      "source": [
        "<a href=\"https://colab.research.google.com/github/MikeE757/CSC221_MEMAN002/blob/main/Quiz3_ipynb(M).ipynb\" target=\"_parent\"><img src=\"https://colab.research.google.com/assets/colab-badge.svg\" alt=\"Open In Colab\"/></a>"
      ]
    },
    {
      "cell_type": "code",
      "execution_count": null,
      "metadata": {
        "id": "O36jYf6raQdV"
      },
      "outputs": [],
      "source": [
        "#Example of Map()\n",
        "#Define a list of numbers\n",
        "numbers = [1,2,3,4,5]\n",
        "#Define a function to square a number\n",
        "def square(x):\n",
        "    return x**2\n",
        "#Use map() to apply the square function to each element in the list\n",
        "squared_numbers = map(square, numbers)\n",
        "#Convert the map object to a list to see the results\n",
        "squared_numbers_list = list(squared_numbers)\n",
        "print(squared_numbers_list)\n",
        "#Example of Max()\n",
        "numbers = [10,30,20,50]\n",
        "largest_number = max(numbers)\n",
        "print(\"The largest number is:\" , largest_number)\n",
        "#Example of min()\n",
        "numbers = [10,30,20,50,40]\n",
        "smallest_number = min (numbers)\n",
        "print(\"The smallest number is:\", smallest_number)\n",
        "\n",
        "\n"
      ]
    }
  ]
}