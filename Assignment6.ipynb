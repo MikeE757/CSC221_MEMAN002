{
  "nbformat": 4,
  "nbformat_minor": 0,
  "metadata": {
    "colab": {
      "provenance": [],
      "authorship_tag": "ABX9TyMhPM5sJYUcHAYk9w8mQU9N",
      "include_colab_link": true
    },
    "kernelspec": {
      "name": "python3",
      "display_name": "Python 3"
    },
    "language_info": {
      "name": "python"
    }
  },
  "cells": [
    {
      "cell_type": "markdown",
      "metadata": {
        "id": "view-in-github",
        "colab_type": "text"
      },
      "source": [
        "<a href=\"https://colab.research.google.com/github/MikeE757/CSC221_MEMAN002/blob/main/Assignment6.ipynb\" target=\"_parent\"><img src=\"https://colab.research.google.com/assets/colab-badge.svg\" alt=\"Open In Colab\"/></a>"
      ]
    },
    {
      "cell_type": "code",
      "source": [
        "from traitlets.config.application import ApplicationError\n",
        "car = 'Subaru'\n",
        "print(\"Is car == 'Subaru'? I predict True.\")\n",
        "print(car == 'Subaru')\n",
        "print(\"\\nIs car == 'audi'? I predict False.\")\n",
        "print(car == 'audi')\n",
        "\n",
        "alien_color='green'\n",
        "if alien_color=='green':\n",
        "  print(\"Congratulation! You just earned 5 points.\")\n",
        "\n",
        "\n",
        "from traitlets.config.application import ApplicationError\n",
        "car = 'Chevrolet'\n",
        "print(\"Is car =='Chevrolet' ? I predict True.\")\n",
        "print(car == 'Chevrolet')\n",
        "print(\"\\nIs car == 'audi'? I predict Flase.\")\n",
        "print(car == 'audi')\n",
        "\n",
        "\n",
        "\n",
        "\n",
        "\n",
        "\n",
        "\n"
      ],
      "metadata": {
        "colab": {
          "base_uri": "https://localhost:8080/"
        },
        "id": "TjZQy-Q-wAvT",
        "outputId": "30842904-deef-48b2-b9a4-30a575e9d941"
      },
      "execution_count": 1,
      "outputs": [
        {
          "output_type": "stream",
          "name": "stdout",
          "text": [
            "Is car == 'Subaru'? I predict True.\n",
            "True\n",
            "\n",
            "Is car == 'audi'? I predict False.\n",
            "False\n",
            "Congratulation! You just earned 5 points.\n",
            "Is car =='Chevrolet' ? I predict True.\n",
            "True\n",
            "\n",
            "Is car == 'audi'? I predict Flase.\n",
            "False\n"
          ]
        }
      ]
    }
  ]
}