{
  "nbformat": 4,
  "nbformat_minor": 0,
  "metadata": {
    "colab": {
      "provenance": [],
      "authorship_tag": "ABX9TyOPdsvPvIXJU7CSkZ2I2NYm",
      "include_colab_link": true
    },
    "kernelspec": {
      "name": "python3",
      "display_name": "Python 3"
    },
    "language_info": {
      "name": "python"
    }
  },
  "cells": [
    {
      "cell_type": "markdown",
      "metadata": {
        "id": "view-in-github",
        "colab_type": "text"
      },
      "source": [
        "<a href=\"https://colab.research.google.com/github/MikeE757/CSC221_MEMAN002/blob/main/quiz3_ipynb(E).ipynb\" target=\"_parent\"><img src=\"https://colab.research.google.com/assets/colab-badge.svg\" alt=\"Open In Colab\"/></a>"
      ]
    },
    {
      "cell_type": "code",
      "execution_count": null,
      "metadata": {
        "id": "b3cWEzDiIUVR"
      },
      "outputs": [],
      "source": [
        "#Define a list of fruits\n",
        "fruits=['apple','banana','cherry','date']\n",
        "#Use enumerate() to loop through the list and print each item with its index\n",
        "for index,fruit in enumerate(fruits):\n",
        "    print(f\"Index{index}:{fruit}\")\n",
        "#Define a string representing a Python experssion\n",
        "expression = \"3+5*2\"\n",
        "#Use eval() to evalute the expression\n",
        "result = eval(expression)\n",
        "print(\"Result:\",result)\n",
        "import csv\n",
        "#Data to be written to the Excel file\n",
        "data = ['Name', 'Age,' 'City'],['Alice', 30,'New York'],['Bob',25,'San Francisco'],['Charile',35,'Seattle']\n",
        "\n"
      ]
    }
  ]
}