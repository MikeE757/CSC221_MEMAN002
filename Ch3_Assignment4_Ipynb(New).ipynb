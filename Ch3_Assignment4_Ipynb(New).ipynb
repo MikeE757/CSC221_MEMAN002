{
  "nbformat": 4,
  "nbformat_minor": 0,
  "metadata": {
    "colab": {
      "provenance": [],
      "authorship_tag": "ABX9TyO/Z54r8zIaQp9GCeVp2a4A",
      "include_colab_link": true
    },
    "kernelspec": {
      "name": "python3",
      "display_name": "Python 3"
    },
    "language_info": {
      "name": "python"
    }
  },
  "cells": [
    {
      "cell_type": "markdown",
      "metadata": {
        "id": "view-in-github",
        "colab_type": "text"
      },
      "source": [
        "<a href=\"https://colab.research.google.com/github/MikeE757/CSC221_MEMAN002/blob/main/Ch3_Assignment4_Ipynb(New).ipynb\" target=\"_parent\"><img src=\"https://colab.research.google.com/assets/colab-badge.svg\" alt=\"Open In Colab\"/></a>"
      ]
    },
    {
      "cell_type": "code",
      "execution_count": null,
      "metadata": {
        "id": "Rpo_GnOTlUBr"
      },
      "outputs": [],
      "source": [
        "bicycles = ['trek' , 'cannondale', 'redline', 'specialized']\n",
        "print(bicycles)\n",
        "\n",
        "biycles = ['trek','cannonable','redline','specialized']\n",
        "print(bicycles[0])\n",
        "\n",
        "bicycles = ['trek','cannondale','redline','specialized']\n",
        "print(bicycles[0].title())\n",
        "\n",
        "bicycles=['trek','cannondale','redline','specialized']\n",
        "print(bicycles[1])\n",
        "print(bicycles[3])\n",
        "\n",
        "bicycles=['trek','cannondale','redline','specialized']\n",
        "print(bicycles[-1])\n",
        "\n",
        "bicycles=['trek','cannondale','redline','specialized']\n",
        "message=f\"My first bicycle was a {bicycles[0].title()}\"\n",
        "print(message)\n",
        "\n",
        "motorcycles = ['Honda','Yamaha','Suzuki']\n",
        "print(motorcycles)\n",
        "\n",
        "motorcycles[0] ='Ducati'\n",
        "print(motorcycles)\n",
        "\n",
        "motorcycles = ['Honda','Yamaha','Suzuki']\n",
        "print(motorcycles)\n",
        "\n",
        "motorcycles.append('Ducati')\n",
        "print(motorcycles)\n",
        "\n",
        "motorcycles = []\n",
        "motorcycles.append('Honda')\n",
        "motorcycles.append('Yamaha')\n",
        "motorcycles.append('Suzuki')\n",
        "print(motorcycles)\n",
        "\n",
        "\n",
        "name=[\"Alice\",\"Bob\",\"Charile\",\"David\"]\n",
        "for name in name:\n",
        "  print(name)\n",
        "\n",
        "\n",
        "name = [\"Alice\",\"Bob\",\"Charile\",\"David\"]\n",
        "for name in name:\n",
        "  message =f\"Hello,{name}!How are you today?\"\n",
        "  print(message)\n",
        "\n",
        "transportation_modes=[\"motocrycle\",\"car\",\"bicycle\",\"train\",\"helicopter\"]\n",
        "print(f\"I would like to own a car,bicycle,train,helicopter.\")\n",
        "\n",
        "\n",
        "motorcycles=['Honda','Yamacha','Suzuki']\n",
        "last_owed = motorcycles.pop()\n",
        "print(f\"The last motorcycle I owed was a (last_owed.title().\")\n",
        "\n",
        "motorcycles=['Honda','Yamaha','Suzuki','Ducati']\n",
        "print(motorcycles)\n",
        "\n",
        "motorcycles.remove('Ducati')\n",
        "print(motorcycles)\n",
        "\n",
        "\n",
        "guest_list=['Albert Einstein', 'Leonardo da Vinci', 'Marie Curie']\n",
        "print(f\"Dear Albert, Leonardo, Marie, you are cordially invited to dinner. Please join us!\")\n",
        "\n",
        "cars =['bmw','audi','toyota','subaru']\n",
        "cars.sort()\n",
        "print(cars)\n",
        "\n",
        "cars=['bmw','audi','toyata','subaru']\n",
        "cars.sort(reverse=True)\n",
        "print(cars)\n",
        "\n",
        "cars=['bmw','audi','toyota','subaru']\n",
        "print(cars)\n",
        "cars.reverse()\n",
        "print(cars)\n",
        "\n"
      ]
    },
    {
      "cell_type": "code",
      "source": [],
      "metadata": {
        "id": "lNycTEOw254S"
      },
      "execution_count": 8,
      "outputs": []
    }
  ]
}