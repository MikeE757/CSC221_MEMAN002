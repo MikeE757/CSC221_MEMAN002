{
  "nbformat": 4,
  "nbformat_minor": 0,
  "metadata": {
    "colab": {
      "provenance": [],
      "authorship_tag": "ABX9TyMc8SJI7SlvORzaD84Bozsj",
      "include_colab_link": true
    },
    "kernelspec": {
      "name": "python3",
      "display_name": "Python 3"
    },
    "language_info": {
      "name": "python"
    }
  },
  "cells": [
    {
      "cell_type": "markdown",
      "metadata": {
        "id": "view-in-github",
        "colab_type": "text"
      },
      "source": [
        "<a href=\"https://colab.research.google.com/github/MikeE757/CSC221_MEMAN002/blob/main/Assignment21_Ipynb.ipynb\" target=\"_parent\"><img src=\"https://colab.research.google.com/assets/colab-badge.svg\" alt=\"Open In Colab\"/></a>"
      ]
    },
    {
      "cell_type": "code",
      "execution_count": null,
      "metadata": {
        "id": "sSfPgeh104pX"
      },
      "outputs": [],
      "source": [
        "#Section 4.4 , Part1\n",
        "#Explain this output. Why does it seem odd?\n",
        "a = [1,2,3]\n",
        "b = a\n",
        "b[1] = 99\n",
        "print(a)\n",
        "print(b)\n",
        "#(Answer One) The code initialize a list 'a' with three elements[1,2,3].\n",
        "#(Answer Two) The code attempts to assign the values '99' to the index '1' of a variable 'b' that has not been defined or assigned any value before. This line of code b[1] = '99' will raise a 'NameError' since 'b'is not defined.\n",
        "#(Answer Three) The Since the error occured during the assignment statement, the subsequent 'print(a)' statement will not be executed.\n",
        "#(Answer Four) When the code reaches the 'print(b)' statement it will raise a 'NameError' because 'b' is not defined.\n",
        "#(Answer Five) The output will be an error message indicating a 'NameError' occurred during the execution of code."
      ]
    }
  ]
}